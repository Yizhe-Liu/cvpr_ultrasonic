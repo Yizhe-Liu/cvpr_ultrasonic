{
  "cells": [
    {
      "cell_type": "code",
      "execution_count": 2,
      "metadata": {
        "id": "w-nBdNNKPhgh"
      },
      "outputs": [],
      "source": [
        "import numpy as np\n",
        "with open(\"scan_001.xyz\",\"r\") as fid:\n",
        "    pointcloud_01 = fid.read()\n",
        "\n",
        "pointcloud_01 = np.array([[float(p) for p in pc.split()] for pc in pointcloud_01.strip(\"\\n\").split(\"\\n\")]).astype(np.float32)\n",
        "\n",
        "with open(\"scan_002.xyz\",\"r\") as fid:\n",
        "    pointcloud_02 = fid.read()\n",
        "    \n",
        "pointcloud_02 = np.array([[float(p) for p in pc.split()] for pc in pointcloud_02.strip(\"\\n\").split(\"\\n\")]).astype(np.float32)"
      ]
    },
    {
      "cell_type": "code",
      "execution_count": 3,
      "metadata": {
        "colab": {
          "base_uri": "https://localhost:8080/"
        },
        "id": "ixQ-JxCKR1f-",
        "outputId": "b86a4390-5f1c-4a78-a046-a0025d9a60e2"
      },
      "outputs": [
        {
          "name": "stdout",
          "output_type": "stream",
          "text": [
            "1.12.1\n"
          ]
        }
      ],
      "source": [
        "import torch\n",
        "print(torch.__version__)"
      ]
    },
    {
      "cell_type": "code",
      "execution_count": 4,
      "metadata": {},
      "outputs": [],
      "source": [
        "occ_01 = torch.load('../output/pred_001_voted.pt')"
      ]
    },
    {
      "cell_type": "code",
      "execution_count": 5,
      "metadata": {},
      "outputs": [],
      "source": [
        "idx = occ_01.permute((1, 2, 0)).nonzero() + torch.Tensor([[0.5, 0.5, 0.5]])# xyz"
      ]
    },
    {
      "cell_type": "code",
      "execution_count": 6,
      "metadata": {},
      "outputs": [],
      "source": [
        "pred_01 = (idx*torch.Tensor([[0.49479, 0.49479, 0.3125]])).type(torch.float32)"
      ]
    },
    {
      "cell_type": "code",
      "execution_count": 22,
      "metadata": {},
      "outputs": [
        {
          "data": {
            "text/plain": [
              "torch.Size([1587578, 3])"
            ]
          },
          "execution_count": 22,
          "metadata": {},
          "output_type": "execute_result"
        }
      ],
      "source": [
        "pred_01.shape"
      ]
    },
    {
      "cell_type": "code",
      "execution_count": 24,
      "metadata": {},
      "outputs": [
        {
          "data": {
            "text/plain": [
              "(38402, 3)"
            ]
          },
          "execution_count": 24,
          "metadata": {},
          "output_type": "execute_result"
        }
      ],
      "source": [
        "\n"
      ]
    },
    {
      "cell_type": "code",
      "execution_count": 25,
      "metadata": {},
      "outputs": [
        {
          "data": {
            "text/plain": [
              "(55413, 3)"
            ]
          },
          "execution_count": 25,
          "metadata": {},
          "output_type": "execute_result"
        }
      ],
      "source": []
    },
    {
      "cell_type": "code",
      "execution_count": 27,
      "metadata": {},
      "outputs": [
        {
          "ename": "AttributeError",
          "evalue": "'numpy.ndarray' object has no attribute 'type'",
          "output_type": "error",
          "traceback": [
            "\u001b[0;31m---------------------------------------------------------------------------\u001b[0m",
            "\u001b[0;31mAttributeError\u001b[0m                            Traceback (most recent call last)",
            "\u001b[1;32m/home/yizhe/projects/cvpr_2023/eval/surface_evaluation.ipynb Cell 8\u001b[0m in \u001b[0;36m1\n\u001b[0;32m----> <a href='vscode-notebook-cell://ssh-remote%2B7b22686f73744e616d65223a2259697a68652d5043227d/home/yizhe/projects/cvpr_2023/eval/surface_evaluation.ipynb#X30sdnNjb2RlLXJlbW90ZQ%3D%3D?line=0'>1</a>\u001b[0m pointcloud_01\u001b[39m.\u001b[39;49mtype\n",
            "\u001b[0;31mAttributeError\u001b[0m: 'numpy.ndarray' object has no attribute 'type'"
          ]
        }
      ],
      "source": []
    },
    {
      "cell_type": "code",
      "execution_count": 14,
      "metadata": {},
      "outputs": [
        {
          "name": "stderr",
          "output_type": "stream",
          "text": [
            "<ipython-input-14-d18a8bee9a77>:2: UserWarning: To copy construct from a tensor, it is recommended to use sourceTensor.clone().detach() or sourceTensor.clone().detach().requires_grad_(True), rather than torch.tensor(sourceTensor).\n",
            "  print(f_score(torch.tensor(pointcloud_01[np.newaxis, :, :]).to('cuda:0'), torch.tensor(pred_01[np.newaxis, :, :]).to('cuda:0'), radius=0.5, eps=1e-08))\n"
          ]
        },
        {
          "name": "stdout",
          "output_type": "stream",
          "text": [
            "tensor([0.0059], device='cuda:0')\n"
          ]
        }
      ],
      "source": [
        "from kaolin.metrics.pointcloud import f_score\n",
        "print(f_score(torch.tensor(pointcloud_01[np.newaxis, :, :]).to('cuda:0'), torch.tensor(pred_01[np.newaxis, :, :]).to('cuda:0'), radius=0.5, eps=1e-08))"
      ]
    },
    {
      "cell_type": "code",
      "execution_count": null,
      "metadata": {},
      "outputs": [],
      "source": []
    },
    {
      "cell_type": "code",
      "execution_count": 45,
      "metadata": {},
      "outputs": [
        {
          "name": "stderr",
          "output_type": "stream",
          "text": [
            "<ipython-input-45-f4ea434f018b>:1: UserWarning: To copy construct from a tensor, it is recommended to use sourceTensor.clone().detach() or sourceTensor.clone().detach().requires_grad_(True), rather than torch.tensor(sourceTensor).\n",
            "  print(f_score(torch.tensor(pointcloud_01[np.newaxis, :, :]).to('cuda:0'), torch.tensor(pred_01[np.newaxis, :, :]).to('cuda:0'), radius=1, eps=1e-08))\n"
          ]
        },
        {
          "name": "stdout",
          "output_type": "stream",
          "text": [
            "tensor([0.0271], device='cuda:0')\n"
          ]
        }
      ],
      "source": [
        "print(f_score(torch.tensor(pointcloud_01[np.newaxis, :, :]).to('cuda:0'), torch.tensor(pred_01[np.newaxis, :, :]).to('cuda:0'), radius=1, eps=1e-08))"
      ]
    },
    {
      "cell_type": "code",
      "execution_count": 15,
      "metadata": {},
      "outputs": [
        {
          "name": "stderr",
          "output_type": "stream",
          "text": [
            "<ipython-input-15-917f0c4f2e80>:1: UserWarning: To copy construct from a tensor, it is recommended to use sourceTensor.clone().detach() or sourceTensor.clone().detach().requires_grad_(True), rather than torch.tensor(sourceTensor).\n",
            "  print(f_score(torch.tensor(pred_01[np.newaxis, :, :]).to('cuda:0'), torch.tensor(pointcloud_01[np.newaxis, :, :]).to('cuda:0'), radius=1, eps=1e-08))\n"
          ]
        },
        {
          "name": "stdout",
          "output_type": "stream",
          "text": [
            "tensor([0.0019], device='cuda:0')\n"
          ]
        }
      ],
      "source": [
        "print(f_score(torch.tensor(pred_01[np.newaxis, :, :]).to('cuda:0'), torch.tensor(pointcloud_01[np.newaxis, :, :]).to('cuda:0'), radius=1, eps=1e-08))"
      ]
    },
    {
      "cell_type": "code",
      "execution_count": null,
      "metadata": {
        "colab": {
          "base_uri": "https://localhost:8080/"
        },
        "id": "cKFwORtySFpt",
        "outputId": "8e2eb2df-2b10-46fb-e56e-07ff2eb84df9"
      },
      "outputs": [
        {
          "name": "stdout",
          "output_type": "stream",
          "text": [
            "nvcc: NVIDIA (R) Cuda compiler driver\n",
            "Copyright (c) 2005-2023 NVIDIA Corporation\n",
            "Built on Tue_Feb__7_19:32:13_PST_2023\n",
            "Cuda compilation tools, release 12.1, V12.1.66\n",
            "Build cuda_12.1.r12.1/compiler.32415258_0\n"
          ]
        }
      ],
      "source": [
        "!nvcc --version"
      ]
    },
    {
      "cell_type": "code",
      "execution_count": null,
      "metadata": {
        "colab": {
          "base_uri": "https://localhost:8080/"
        },
        "id": "erJXMj3pSIG7",
        "outputId": "ce6bda32-c8b4-45bd-cba9-f2628432fee4"
      },
      "outputs": [
        {
          "name": "stdout",
          "output_type": "stream",
          "text": [
            "Requirement already satisfied: jinja2 in /home/yizhe/miniconda3/lib/python3.9/site-packages (3.1.2)\n",
            "Requirement already satisfied: MarkupSafe>=2.0 in /home/yizhe/miniconda3/lib/python3.9/site-packages (from jinja2) (2.1.1)\n"
          ]
        }
      ],
      "source": [
        "!pip install --upgrade jinja2\n",
        "!pip install -q kaolin==0.13.0 -f https://nvidia-kaolin.s3.us-east-2.amazonaws.com/torch-1.13.1_cu116.html"
      ]
    },
    {
      "cell_type": "markdown",
      "metadata": {
        "id": "h2TTSMDUVC6B"
      },
      "source": [
        "##F-1 Score\n",
        "See F-1 score definition for pointcloud at Nvidia's KAOLIN documentation:\n",
        "https://kaolin.readthedocs.io/en/latest/modules/kaolin.metrics.pointcloud.html\n",
        "Using 0.1, 0.5, 1.0 for radius"
      ]
    },
    {
      "cell_type": "code",
      "execution_count": null,
      "metadata": {
        "colab": {
          "base_uri": "https://localhost:8080/"
        },
        "id": "7jsyoQ4vS3Gd",
        "outputId": "d20d8625-fac7-40be-844f-c70eba298218"
      },
      "outputs": [
        {
          "name": "stdout",
          "output_type": "stream",
          "text": [
            "tensor([1.0000], device='cuda:0', dtype=torch.float64)\n",
            "tensor([0.0001], device='cuda:0', dtype=torch.float64)\n",
            "tensor([0.0177], device='cuda:0', dtype=torch.float64)\n",
            "tensor([0.0402], device='cuda:0', dtype=torch.float64)\n"
          ]
        }
      ],
      "source": [
        "from kaolin.metrics.pointcloud import f_score\n",
        "print(f_score(torch.tensor(pointcloud_01[np.newaxis, :, :]).to('cuda:0'), torch.tensor(pointcloud_01[np.newaxis, :, :]).to('cuda:0'), radius=0.1, eps=1e-08))\n",
        "print(f_score(torch.tensor(pointcloud_01[np.newaxis, :, :]).to('cuda:0'), torch.tensor(pointcloud_02[np.newaxis, :, :]).to('cuda:0'), radius=0.1, eps=1e-08))\n",
        "print(f_score(torch.tensor(pointcloud_01[np.newaxis, :, :]).to('cuda:0'), torch.tensor(pointcloud_02[np.newaxis, :, :]).to('cuda:0'), radius=0.5, eps=1e-08))\n",
        "print(f_score(torch.tensor(pointcloud_01[np.newaxis, :, :]).to('cuda:0'), torch.tensor(pointcloud_02[np.newaxis, :, :]).to('cuda:0'), radius=1.0, eps=1e-08))"
      ]
    },
    {
      "cell_type": "markdown",
      "metadata": {
        "id": "FUHmi96dVfEj"
      },
      "source": [
        "## Chamfer Distance\n",
        "See Chamfer definition for pointcloud at Nvidia's KAOLIN documentation: \n",
        "https://kaolin.readthedocs.io/en/latest/modules/kaolin.metrics.pointcloud.html\n",
        "We use default parameters for symmetric distance"
      ]
    },
    {
      "cell_type": "code",
      "execution_count": 16,
      "metadata": {
        "colab": {
          "base_uri": "https://localhost:8080/"
        },
        "id": "qCIkKtb6Viqk",
        "outputId": "4e229109-d8c6-4036-bf6a-1aa9b4a12f90"
      },
      "outputs": [
        {
          "name": "stdout",
          "output_type": "stream",
          "text": [
            "tensor([0.], device='cuda:0')\n",
            "tensor([1121.5381], device='cuda:0')\n"
          ]
        }
      ],
      "source": [
        "from kaolin.metrics.pointcloud import chamfer_distance\n",
        "print(chamfer_distance(torch.tensor(pointcloud_01[np.newaxis, :, :]).to('cuda:0'), torch.tensor(pointcloud_01[np.newaxis, :, :]).to('cuda:0')))\n",
        "print(chamfer_distance(torch.tensor(pointcloud_01[np.newaxis, :, :]).to('cuda:0'), torch.tensor(pointcloud_02[np.newaxis, :, :]).to('cuda:0')))"
      ]
    },
    {
      "cell_type": "code",
      "execution_count": 17,
      "metadata": {},
      "outputs": [
        {
          "name": "stderr",
          "output_type": "stream",
          "text": [
            "<ipython-input-17-2ea9da51ed73>:1: UserWarning: To copy construct from a tensor, it is recommended to use sourceTensor.clone().detach() or sourceTensor.clone().detach().requires_grad_(True), rather than torch.tensor(sourceTensor).\n",
            "  print(chamfer_distance(torch.tensor(pointcloud_01[np.newaxis, :, :]).to('cuda:0'), torch.tensor(pred_01[np.newaxis, :, :]).to('cuda:0')))\n"
          ]
        },
        {
          "name": "stdout",
          "output_type": "stream",
          "text": [
            "tensor([1418.4249], device='cuda:0')\n"
          ]
        }
      ],
      "source": [
        "print(chamfer_distance(torch.tensor(pointcloud_01[np.newaxis, :, :]).to('cuda:0'), torch.tensor(pred_01[np.newaxis, :, :]).to('cuda:0')))"
      ]
    },
    {
      "cell_type": "markdown",
      "metadata": {
        "id": "KyYc9ygfaTa7"
      },
      "source": [
        "## Direct Hausdorff\n",
        "See Scipy's documentation for direct Hausdorff distance:\n",
        "https://scipy.github.io/devdocs/reference/generated/scipy.spatial.distance.directed_hausdorff.html"
      ]
    },
    {
      "cell_type": "code",
      "execution_count": 18,
      "metadata": {
        "colab": {
          "base_uri": "https://localhost:8080/"
        },
        "id": "uUASsurUaWAh",
        "outputId": "327b036e-81d0-451f-d4bb-ff6ae3be50b3"
      },
      "outputs": [
        {
          "name": "stdout",
          "output_type": "stream",
          "text": [
            "Hausdorff distance between PC1 and itself 0.0\n",
            "Hausdorff distance between PC1 and PC2 84.35377426860708\n"
          ]
        }
      ],
      "source": [
        "from scipy.spatial.distance import directed_hausdorff\n",
        "d, _, _ = directed_hausdorff(pointcloud_01, pointcloud_01)\n",
        "print(\"Hausdorff distance between PC1 and itself\", d)\n",
        "d, _, _ = directed_hausdorff(pointcloud_01, pointcloud_02)\n",
        "print(\"Hausdorff distance between PC1 and PC2\", d)"
      ]
    },
    {
      "cell_type": "code",
      "execution_count": 19,
      "metadata": {},
      "outputs": [
        {
          "name": "stdout",
          "output_type": "stream",
          "text": [
            "Hausdorff distance between PC1 and PC2 50.87637815448629\n"
          ]
        }
      ],
      "source": [
        "d, _, _ = directed_hausdorff(pointcloud_01, pred_01)\n",
        "print(\"Hausdorff distance between PC1 and PC2\", d)"
      ]
    },
    {
      "cell_type": "markdown",
      "metadata": {
        "id": "J6IHQX7Iake4"
      },
      "source": [
        "## Mean Surface Distance / Average Symmetric Surface Distance\n",
        "See the definition here:\n",
        "https://github.com/emrekavur/CHAOS-evaluation/blob/master/CHAOS_Metrics_and_Evaluation_Method.pdf"
      ]
    },
    {
      "cell_type": "code",
      "execution_count": 20,
      "metadata": {
        "colab": {
          "base_uri": "https://localhost:8080/"
        },
        "id": "Ck2V3knQamNg",
        "outputId": "de0412c8-16ae-48c4-8f85-1c69f9387175"
      },
      "outputs": [
        {
          "name": "stdout",
          "output_type": "stream",
          "text": [
            "0.0\n",
            "530.9226882694664\n"
          ]
        }
      ],
      "source": [
        "import numpy as np\n",
        "from kaolin.metrics.pointcloud import sided_distance\n",
        "\n",
        "def mean_surface_distance(p1: torch.tensor, p2: torch.tensor) -> float:\n",
        "  msd = torch.sum(sided_distance(p1, p2)[0]).detach().cpu().numpy() + torch.sum(sided_distance(p2, p1)[0]).detach().cpu().numpy()\n",
        "  msd /= p1.size()[1] + p2.size()[1]\n",
        "  return msd\n",
        "\n",
        "print(mean_surface_distance(torch.tensor(pointcloud_01[np.newaxis, :, :]).to('cuda:0'), torch.tensor(pointcloud_01[np.newaxis, :, :]).to('cuda:0')))\n",
        "print(mean_surface_distance(torch.tensor(pointcloud_01[np.newaxis, :, :]).to('cuda:0'), torch.tensor(pointcloud_02[np.newaxis, :, :]).to('cuda:0')))"
      ]
    },
    {
      "cell_type": "code",
      "execution_count": 21,
      "metadata": {},
      "outputs": [
        {
          "name": "stderr",
          "output_type": "stream",
          "text": [
            "<ipython-input-21-3afd9555236e>:1: UserWarning: To copy construct from a tensor, it is recommended to use sourceTensor.clone().detach() or sourceTensor.clone().detach().requires_grad_(True), rather than torch.tensor(sourceTensor).\n",
            "  print(mean_surface_distance(torch.tensor(pointcloud_01[np.newaxis, :, :]).to('cuda:0'), torch.tensor(pred_01[np.newaxis, :, :]).to('cuda:0')))\n"
          ]
        },
        {
          "name": "stdout",
          "output_type": "stream",
          "text": [
            "808.2735777807845\n"
          ]
        }
      ],
      "source": [
        "print(mean_surface_distance(torch.tensor(pointcloud_01[np.newaxis, :, :]).to('cuda:0'), torch.tensor(pred_01[np.newaxis, :, :]).to('cuda:0')))"
      ]
    },
    {
      "cell_type": "markdown",
      "metadata": {
        "id": "FxYGsHUl4sKc"
      },
      "source": [
        "## Residual Mean Square Distance\n",
        "See definition here: https://github.com/emrekavur/CHAOS-evaluation/blob/master/CHAOS_Metrics_and_Evaluation_Method.pdf"
      ]
    },
    {
      "cell_type": "code",
      "execution_count": 7,
      "metadata": {
        "colab": {
          "base_uri": "https://localhost:8080/"
        },
        "id": "_2GOMUn54un3",
        "outputId": "70873a1b-0264-4e7f-d245-d62e1ddad88b"
      },
      "outputs": [
        {
          "name": "stdout",
          "output_type": "stream",
          "text": [
            "0.0\n",
            "860766.9668176731\n"
          ]
        }
      ],
      "source": [
        "import numpy as np\n",
        "from kaolin.metrics.pointcloud import sided_distance\n",
        "\n",
        "def mean_surface_distance(p1: torch.tensor, p2: torch.tensor) -> float:\n",
        "  msd = torch.sum(torch.square(sided_distance(p1, p2)[0])).detach().cpu().numpy() + torch.sum(torch.square(sided_distance(p2, p1)[0])).detach().cpu().numpy()\n",
        "  msd /= p1.size()[1] + p2.size()[1]\n",
        "  return msd\n",
        "\n",
        "print(mean_surface_distance(torch.tensor(pointcloud_01[np.newaxis, :, :]).to('cuda:0'), torch.tensor(pointcloud_01[np.newaxis, :, :]).to('cuda:0')))\n",
        "print(mean_surface_distance(torch.tensor(pointcloud_01[np.newaxis, :, :]).to('cuda:0'), torch.tensor(pointcloud_02[np.newaxis, :, :]).to('cuda:0')))"
      ]
    },
    {
      "cell_type": "code",
      "execution_count": 8,
      "metadata": {},
      "outputs": [
        {
          "name": "stderr",
          "output_type": "stream",
          "text": [
            "<ipython-input-8-3afd9555236e>:1: UserWarning: To copy construct from a tensor, it is recommended to use sourceTensor.clone().detach() or sourceTensor.clone().detach().requires_grad_(True), rather than torch.tensor(sourceTensor).\n",
            "  print(mean_surface_distance(torch.tensor(pointcloud_01[np.newaxis, :, :]).to('cuda:0'), torch.tensor(pred_01[np.newaxis, :, :]).to('cuda:0')))\n"
          ]
        },
        {
          "name": "stdout",
          "output_type": "stream",
          "text": [
            "1233698.694881856\n"
          ]
        }
      ],
      "source": [
        "print(mean_surface_distance(torch.tensor(pointcloud_01[np.newaxis, :, :]).to('cuda:0'), torch.tensor(pred_01[np.newaxis, :, :]).to('cuda:0')))"
      ]
    }
  ],
  "metadata": {
    "accelerator": "GPU",
    "colab": {
      "provenance": []
    },
    "gpuClass": "standard",
    "kernelspec": {
      "display_name": "Python 3",
      "name": "python3"
    },
    "language_info": {
      "codemirror_mode": {
        "name": "ipython",
        "version": 3
      },
      "file_extension": ".py",
      "mimetype": "text/x-python",
      "name": "python",
      "nbconvert_exporter": "python",
      "pygments_lexer": "ipython3",
      "version": "3.9.12"
    }
  },
  "nbformat": 4,
  "nbformat_minor": 0
}
